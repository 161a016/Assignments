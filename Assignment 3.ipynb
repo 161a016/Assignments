{
 "cells": [
  {
   "cell_type": "code",
   "execution_count": null,
   "id": "24ef6ebf",
   "metadata": {},
   "outputs": [],
   "source": [
    "##Q1.Write a program to check if number is positive,negative or zero."
   ]
  },
  {
   "cell_type": "code",
   "execution_count": 9,
   "id": "22367101",
   "metadata": {},
   "outputs": [],
   "source": [
    "n=[-1,1,2,3,4,5,6,0,-1,-2]"
   ]
  },
  {
   "cell_type": "code",
   "execution_count": 10,
   "id": "5440cbae",
   "metadata": {},
   "outputs": [
    {
     "data": {
      "text/plain": [
       "(6, 3, 4)"
      ]
     },
     "execution_count": 10,
     "metadata": {},
     "output_type": "execute_result"
    }
   ],
   "source": [
    "Q1.def check_number(n):\n",
    "    postive=negative=zero=0\n",
    "    for i in n:\n",
    "        if i<0:\n",
    "            negative+=1\n",
    "        if i>0:\n",
    "            postive+=1\n",
    "        else:\n",
    "            zero+=1\n",
    "    return postive,negative,zero\n",
    "\n",
    "check_number(n)"
   ]
  },
  {
   "cell_type": "code",
   "execution_count": 12,
   "id": "65e86a53",
   "metadata": {},
   "outputs": [
    {
     "name": "stdout",
     "output_type": "stream",
     "text": [
      "the number is odd\n",
      "the number is odd\n",
      "the number is even\n",
      "the number is odd\n",
      "the number is even\n",
      "the number is odd\n",
      "the number is even\n",
      "the number is even\n",
      "the number is odd\n",
      "the number is even\n"
     ]
    }
   ],
   "source": [
    "Q2.def oddoreven(n):\n",
    "    for i in n:\n",
    "        if i%2==0:\n",
    "            print(\"the number is even\")\n",
    "        else:\n",
    "            print('the number is odd')\n",
    "oddoreven(n)"
   ]
  },
  {
   "cell_type": "code",
   "execution_count": 14,
   "id": "dcef3a34",
   "metadata": {},
   "outputs": [
    {
     "name": "stdout",
     "output_type": "stream",
     "text": [
      "year is not leap year\n",
      "year is not leap year\n",
      "year is not leap year\n",
      "year is not leap year\n",
      "year is not leap year\n"
     ]
    }
   ],
   "source": [
    "n=[2015,2016,2017,2018,2019]\n",
    "Q3.def leap_year(n):\n",
    "    for i in n:\n",
    "        if i%400==0 and i%4==0:\n",
    "            print(\"year is leap year\")\n",
    "        else:\n",
    "            print(\"year is not leap year\")\n",
    "leap_year(n)"
   ]
  },
  {
   "cell_type": "code",
   "execution_count": 18,
   "id": "a670c46f",
   "metadata": {},
   "outputs": [],
   "source": [
    "Q4 def  primeNo(num):\n",
    "    for i in range(2,num):\n",
    "        if (num%i)==0:\n",
    "            print(num,\"the number is not prime number\")\n",
    "            break\n",
    "        else:\n",
    "            print(\"The number is prime number\")\n",
    "            break"
   ]
  },
  {
   "cell_type": "code",
   "execution_count": 22,
   "id": "e30419f6",
   "metadata": {},
   "outputs": [
    {
     "name": "stdout",
     "output_type": "stream",
     "text": [
      "the number is not prime number\n",
      "the number is prime  Number\n"
     ]
    }
   ],
   "source": [
    "Q5.import random\n",
    "num=random.randint(0,10000)\n",
    "for i in range(2,num):\n",
    "    if(num%i)==0:\n",
    "        print(\"the number is prime  Number\")\n",
    "        break\n",
    "    else:\n",
    "        print(\"the number is not prime number\")\n",
    "        "
   ]
  }
 ],
 "metadata": {
  "kernelspec": {
   "display_name": "Python 3",
   "language": "python",
   "name": "python3"
  },
  "language_info": {
   "codemirror_mode": {
    "name": "ipython",
    "version": 3
   },
   "file_extension": ".py",
   "mimetype": "text/x-python",
   "name": "python",
   "nbconvert_exporter": "python",
   "pygments_lexer": "ipython3",
   "version": "3.8.8"
  }
 },
 "nbformat": 4,
 "nbformat_minor": 5
}
