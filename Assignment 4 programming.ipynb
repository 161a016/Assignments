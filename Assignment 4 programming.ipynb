{
 "cells": [
  {
   "cell_type": "code",
   "execution_count": 17,
   "id": "23d33330",
   "metadata": {},
   "outputs": [
    {
     "data": {
      "text/plain": [
       "6"
      ]
     },
     "execution_count": 17,
     "metadata": {},
     "output_type": "execute_result"
    }
   ],
   "source": [
    "import logging \n",
    "logging.basicConfig(filename='test.log',level=logging.INFO)\n",
    "def factorial(n):\n",
    "    if n<0:\n",
    "        return 0\n",
    "        logging.error('Invalid input')\n",
    "    elif n==0 or n==1 :\n",
    "        return 1\n",
    "    else:\n",
    "        fact=1\n",
    "        while(n>1):\n",
    "            fact*=n\n",
    "            n-=1\n",
    "        return fact\n",
    "    \n",
    "factorial(3)"
   ]
  },
  {
   "cell_type": "code",
   "execution_count": 20,
   "id": "7daaeb02",
   "metadata": {},
   "outputs": [
    {
     "name": "stdout",
     "output_type": "stream",
     "text": [
      "the multiplication of the 12 is  0\n",
      "the multiplication of the 12 is  12\n",
      "the multiplication of the 12 is  24\n",
      "the multiplication of the 12 is  36\n",
      "the multiplication of the 12 is  48\n",
      "the multiplication of the 12 is  60\n",
      "the multiplication of the 12 is  72\n",
      "the multiplication of the 12 is  84\n",
      "the multiplication of the 12 is  96\n",
      "the multiplication of the 12 is  108\n",
      "the multiplication of the 12 is  120\n"
     ]
    }
   ],
   "source": [
    "def multiplication_table(num):\n",
    "    for i in range(0,11):\n",
    "        print('the multiplication of the 12 is ',num*i)\n",
    "multiplication_table(12)"
   ]
  },
  {
   "cell_type": "code",
   "execution_count": 16,
   "id": "ebe1cd36",
   "metadata": {},
   "outputs": [
    {
     "data": {
      "text/plain": [
       "55"
      ]
     },
     "execution_count": 16,
     "metadata": {},
     "output_type": "execute_result"
    }
   ],
   "source": [
    "import logging\n",
    "def fibonacci(n):\n",
    "    a=0\n",
    "    b=1\n",
    "    if n<0:\n",
    "        logging.error(\"Invalid input\")\n",
    "    if n==0:\n",
    "        return 0\n",
    "    elif n==1 or n==2:\n",
    "        return b\n",
    "    else:\n",
    "        for i in range(1,n):\n",
    "            c=a+b\n",
    "            a=b\n",
    "            b=c\n",
    "        return b\n",
    "fibonacci(10)"
   ]
  },
  {
   "cell_type": "code",
   "execution_count": 59,
   "id": "267ec4b5",
   "metadata": {},
   "outputs": [
    {
     "name": "stdout",
     "output_type": "stream",
     "text": [
      "371 is not a armstrong number\n"
     ]
    }
   ],
   "source": [
    "##Program to check Armstrong Number\n",
    "def armstrong_Number(n):\n",
    "    sum=0\n",
    "    temp=n\n",
    "    while temp>0:\n",
    "        digit=temp%10\n",
    "        sum+=digit**3\n",
    "        temp//=10\n",
    "    if num==sum:\n",
    "        print(num,\"is a armstrong number\")\n",
    "    else:\n",
    "        print(num,\"is not a armstrong number\")\n",
    "armstrong_Number(153)"
   ]
  },
  {
   "cell_type": "code",
   "execution_count": 72,
   "id": "e5dc14cd",
   "metadata": {},
   "outputs": [
    {
     "name": "stdout",
     "output_type": "stream",
     "text": [
      "enter the number345\n",
      "enter the number50\n"
     ]
    }
   ],
   "source": [
    "##Armstrong number over interval\n",
    "lower=int(input(\"enter the number\"))\n",
    "upper=int(input(\"enter the number\"))\n",
    "for num in range(lower,upper+1):\n",
    "    sum=0\n",
    "    temp=num\n",
    "    while temp>0:\n",
    "        digit=temp%10\n",
    "        sum+=digit**3\n",
    "        temp//=10\n",
    "        if num==sum:\n",
    "            print(num,\"is a armstrong number\")\n",
    "        else:\n",
    "            print(num,\"is not a armstrong number\")"
   ]
  },
  {
   "cell_type": "code",
   "execution_count": 88,
   "id": "8e9d6900",
   "metadata": {},
   "outputs": [
    {
     "name": "stdout",
     "output_type": "stream",
     "text": [
      "enter the number100\n",
      "the sum is 5050\n"
     ]
    }
   ],
   "source": [
    "##Sum of natural numbers\n",
    "num=int(input(\"enter the number\"))\n",
    "if num<0:\n",
    "    print(\"enter a positive number\")\n",
    "else:\n",
    "    sum=0\n",
    "    while (num>0):\n",
    "        sum+=num\n",
    "        num-=1\n",
    "    print(\"the sum is\",sum)"
   ]
  },
  {
   "cell_type": "code",
   "execution_count": null,
   "id": "454ed322",
   "metadata": {},
   "outputs": [],
   "source": []
  },
  {
   "cell_type": "code",
   "execution_count": null,
   "id": "479ddba5",
   "metadata": {},
   "outputs": [],
   "source": []
  },
  {
   "cell_type": "code",
   "execution_count": null,
   "id": "121b8f29",
   "metadata": {},
   "outputs": [],
   "source": []
  },
  {
   "cell_type": "code",
   "execution_count": null,
   "id": "b18cf680",
   "metadata": {},
   "outputs": [],
   "source": []
  },
  {
   "cell_type": "code",
   "execution_count": null,
   "id": "314ecf1e",
   "metadata": {},
   "outputs": [],
   "source": []
  },
  {
   "cell_type": "code",
   "execution_count": null,
   "id": "3543c403",
   "metadata": {},
   "outputs": [],
   "source": []
  }
 ],
 "metadata": {
  "kernelspec": {
   "display_name": "Python 3",
   "language": "python",
   "name": "python3"
  },
  "language_info": {
   "codemirror_mode": {
    "name": "ipython",
    "version": 3
   },
   "file_extension": ".py",
   "mimetype": "text/x-python",
   "name": "python",
   "nbconvert_exporter": "python",
   "pygments_lexer": "ipython3",
   "version": "3.8.8"
  }
 },
 "nbformat": 4,
 "nbformat_minor": 5
}
