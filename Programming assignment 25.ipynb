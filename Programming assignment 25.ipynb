{
 "cells": [
  {
   "cell_type": "code",
   "execution_count": 3,
   "id": "8f675378",
   "metadata": {},
   "outputs": [],
   "source": [
    "Q1.def equalvalue(a,b,c):\n",
    "    num=0\n",
    "    if a==b and a==c:\n",
    "        num==3\n",
    "    elif a==b or a==c:\n",
    "        num==2\n",
    "    else:\n",
    "        num==0\n",
    "equalvalue(1,2,2)\n"
   ]
  },
  {
   "cell_type": "code",
   "execution_count": 21,
   "id": "dba0469e",
   "metadata": {},
   "outputs": [
    {
     "name": "stdout",
     "output_type": "stream",
     "text": [
      "[('B', 2), ('D', 1), ('C', 3)]\n"
     ]
    }
   ],
   "source": [
    "Q2.dict1=({\n",
    "    \"D\":1,\n",
    "    \"B\":2,\n",
    "    \"C\":3\n",
    "})\n",
    "\n",
    "def dict_to_list(dict1):\n",
    "    l=[]\n",
    "    for i in dict1.items():\n",
    "        l.sort()\n",
    "        l.append(i)\n",
    "    print(l)\n",
    "        \n",
    "dict_to_list(dict1)\n",
    "            "
   ]
  },
  {
   "cell_type": "code",
   "execution_count": 95,
   "id": "ebd791ba",
   "metadata": {},
   "outputs": [
    {
     "name": "stdout",
     "output_type": "stream",
     "text": [
      "\n",
      "Dictionary after adding  elements: \n",
      "{'p': ['q']}\n"
     ]
    }
   ],
   "source": [
    "Q3.def mapping(l):\n",
    "    d={}\n",
    "    d['p'] = 'P'\n",
    "    d['q'] = 'Q'\n",
    "print(\"\\nDictionary after adding  elements: \")\n",
    "print(d)\n",
    "\n",
    "        \n",
    "    "
   ]
  },
  {
   "cell_type": "code",
   "execution_count": 116,
   "id": "33def272",
   "metadata": {},
   "outputs": [
    {
     "name": "stdout",
     "output_type": "stream",
     "text": [
      "The given input string is My name is Rishabh\n",
      "The character which is too be replaced u\n",
      "After replacing vowels with specified character My numu us Rushubh\n"
     ]
    }
   ],
   "source": [
    "Q4.def replaceVowelWithU(test_str,v):\n",
    "    vowels='AEIOUaeiou'\n",
    "    for ele in  vowels:\n",
    "        test_str=test_str.replace(ele,v)\n",
    "    return test_str\n",
    "\n",
    "input_str='My name is Rishabh'\n",
    "v='u'\n",
    "print(\"The given input string is\",input_str)\n",
    "print(\"The character which is too be replaced\",v)\n",
    "print('After replacing vowels with specified character',replaceVowelWithU(input_str,v))\n",
    "\n"
   ]
  },
  {
   "cell_type": "code",
   "execution_count": 231,
   "id": "5c49f516",
   "metadata": {},
   "outputs": [
    {
     "data": {
      "text/plain": [
       "' my Name is RisHaBH'"
      ]
     },
     "execution_count": 231,
     "metadata": {},
     "output_type": "execute_result"
    }
   ],
   "source": [
    "Q5.s=\"My name is rishabh\"\n",
    "s1=\" \"\n",
    "for i in range(len(s)):\n",
    "    count=0\n",
    "    if ord(s[i])%2==1:\n",
    "        s1+=s[i].lower()\n",
    "        count+=1\n",
    "    else:\n",
    "        s1+=s[i].capitalize()\n",
    "        count+=1\n",
    "s1\n",
    "\n",
    "        "
   ]
  },
  {
   "cell_type": "code",
   "execution_count": null,
   "id": "9c3cab16",
   "metadata": {},
   "outputs": [],
   "source": [
    "\n"
   ]
  },
  {
   "cell_type": "code",
   "execution_count": null,
   "id": "f67520e1",
   "metadata": {},
   "outputs": [],
   "source": []
  },
  {
   "cell_type": "code",
   "execution_count": null,
   "id": "bbcc0cf4",
   "metadata": {},
   "outputs": [],
   "source": []
  },
  {
   "cell_type": "code",
   "execution_count": null,
   "id": "2eb853c7",
   "metadata": {},
   "outputs": [],
   "source": []
  },
  {
   "cell_type": "code",
   "execution_count": null,
   "id": "53e23d88",
   "metadata": {},
   "outputs": [],
   "source": []
  },
  {
   "cell_type": "code",
   "execution_count": null,
   "id": "a478dbaf",
   "metadata": {},
   "outputs": [],
   "source": []
  },
  {
   "cell_type": "code",
   "execution_count": null,
   "id": "bdb681cc",
   "metadata": {},
   "outputs": [],
   "source": [
    "\n",
    "\n",
    "    \n",
    "    \n",
    "    "
   ]
  },
  {
   "cell_type": "code",
   "execution_count": null,
   "id": "5e153876",
   "metadata": {},
   "outputs": [],
   "source": []
  },
  {
   "cell_type": "code",
   "execution_count": null,
   "id": "9095f17a",
   "metadata": {},
   "outputs": [],
   "source": []
  },
  {
   "cell_type": "code",
   "execution_count": null,
   "id": "d239bc19",
   "metadata": {},
   "outputs": [],
   "source": []
  },
  {
   "cell_type": "code",
   "execution_count": null,
   "id": "97c0c477",
   "metadata": {},
   "outputs": [],
   "source": []
  },
  {
   "cell_type": "code",
   "execution_count": 186,
   "id": "61dcb4f7",
   "metadata": {},
   "outputs": [
    {
     "data": {
      "text/plain": [
       "':'"
      ]
     },
     "execution_count": 186,
     "metadata": {},
     "output_type": "execute_result"
    }
   ],
   "source": []
  },
  {
   "cell_type": "code",
   "execution_count": 190,
   "id": "2898efa0",
   "metadata": {},
   "outputs": [],
   "source": []
  },
  {
   "cell_type": "code",
   "execution_count": 189,
   "id": "b35c8adf",
   "metadata": {},
   "outputs": [
    {
     "data": {
      "text/plain": [
       "(3, 3.5)"
      ]
     },
     "execution_count": 189,
     "metadata": {},
     "output_type": "execute_result"
    }
   ],
   "source": []
  }
 ],
 "metadata": {
  "kernelspec": {
   "display_name": "Python 3",
   "language": "python",
   "name": "python3"
  },
  "language_info": {
   "codemirror_mode": {
    "name": "ipython",
    "version": 3
   },
   "file_extension": ".py",
   "mimetype": "text/x-python",
   "name": "python",
   "nbconvert_exporter": "python",
   "pygments_lexer": "ipython3",
   "version": "3.8.8"
  }
 },
 "nbformat": 4,
 "nbformat_minor": 5
}
